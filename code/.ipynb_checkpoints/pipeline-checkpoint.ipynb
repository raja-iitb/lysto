{
 "cells": [
  {
   "cell_type": "markdown",
   "metadata": {},
   "source": [
    "### Import Libraries"
   ]
  },
  {
   "cell_type": "code",
   "execution_count": null,
   "metadata": {},
   "outputs": [],
   "source": [
    "import pickle\n",
    "import os\n",
    "import pandas as pd\n",
    "from sklearn.metrics import accuracy_score, f1_score, precision_score, recall_score"
   ]
  },
  {
   "cell_type": "markdown",
   "metadata": {},
   "source": [
    "### Declaring ClassLabels"
   ]
  },
  {
   "cell_type": "code",
   "execution_count": null,
   "metadata": {},
   "outputs": [],
   "source": [
    "import enum\n",
    "\n",
    "ABSTAIN = None\n",
    "\n",
    "class ClassLabels(enum.Enum):\n",
    "    BASOPHIL = 0\n",
    "    EOSINOPHIL = 1\n",
    "    PLATELET = 2\n",
    "\n",
    "THRESHOLD = 0.8 "
   ]
  },
  {
   "cell_type": "markdown",
   "metadata": {},
   "source": [
    "### Defining Labelling Functions"
   ]
  },
  {
   "cell_type": "markdown",
   "metadata": {},
   "source": [
    "#### LFs for Class 0"
   ]
  },
  {
   "cell_type": "code",
   "execution_count": null,
   "metadata": {},
   "outputs": [],
   "source": [
    "from spear.labeling import labeling_function, ABSTAIN, preprocessor, continuous_scorer\n",
    "import re\n",
    "path = \"C:/Users/akshi/Desktop/DDP/MICCAI/data/models/\"\n",
    "\n",
    "# SVM\n",
    "@continuous_scorer()\n",
    "def svm_0(x,**kwargs):\n",
    "    import pickle\n",
    "    import numpy as np\n",
    "\n",
    "    x = np.array(x).flatten() # x is 28x28x3 input img \n",
    "    svm = pickle.load(open(path+'0_svm.pkl','rb'))\n",
    "    confidence_scores = svm.predict_proba([x])\n",
    "    # print(confidence_scores)\n",
    "    return float(confidence_scores[0][1]) #only called when model doesn't ABSTAIN, output confidence on class label\n",
    "\n",
    "@labeling_function(cont_scorer=svm_0, label=ClassLabels.BASOPHIL)\n",
    "def LF_svm_0(x, **kwargs):\n",
    "    import pickle\n",
    "    import numpy as np\n",
    "\n",
    "    x = np.array(x).flatten()  \n",
    "    svm = pickle.load(open(path+'0_svm.pkl','rb'))\n",
    "    \n",
    "    if svm.predict_proba([x])[0][1]>0.8: \n",
    "        return ClassLabels.BASOPHIL # Return label only if confidence > 0.8\n",
    "    else: \n",
    "        return ABSTAIN\n",
    "\n",
    "# Random Forest\n",
    "@continuous_scorer()\n",
    "def rf_0(x,**kwargs):\n",
    "    import pickle\n",
    "    import numpy as np\n",
    "\n",
    "    x = np.array(x).flatten()  \n",
    "    rf = pickle.load(open(path+'0_rf.pkl','rb'))\n",
    "    confidence_scores = rf.predict_proba([x])\n",
    "\n",
    "    return float(confidence_scores[0][1]) \n",
    "\n",
    "@labeling_function(cont_scorer=rf_0, label=ClassLabels.BASOPHIL)\n",
    "def LF_rf_0(x, **kwargs):\n",
    "    import pickle\n",
    "    import numpy as np\n",
    "\n",
    "    x = np.array(x).flatten()  \n",
    "    rf = pickle.load(open(path+'0_rf.pkl','rb'))\n",
    "    \n",
    "    if rf.predict_proba([x])[0][1]>0.8: \n",
    "        return ClassLabels.BASOPHIL\n",
    "    else: \n",
    "        return ABSTAIN\n",
    "\n",
    "# KNN\n",
    "@continuous_scorer()\n",
    "def knn_0(x,**kwargs):\n",
    "    import pickle\n",
    "    import numpy as np\n",
    "\n",
    "    x = np.array(x).flatten()  \n",
    "    knn = pickle.load(open(path+'0_knn.pkl','rb'))\n",
    "    confidence_scores = knn.predict_proba([x])\n",
    "\n",
    "    return float(confidence_scores[0][1]) \n",
    "\n",
    "\n",
    "@labeling_function(cont_scorer=knn_0, label=ClassLabels.BASOPHIL)\n",
    "def LF_knn_0(x, **kwargs):\n",
    "    import pickle\n",
    "    import numpy as np\n",
    "\n",
    "    x = np.array(x).flatten()  \n",
    "    knn = pickle.load(open(path+'0_knn.pkl','rb'))\n",
    "    \n",
    "    if knn.predict_proba([x])[0][1]>0.8: \n",
    "        return ClassLabels.BASOPHIL\n",
    "    else: \n",
    "        return ABSTAIN\n",
    "\n",
    "# Decision Tree \n",
    "@continuous_scorer()\n",
    "def dt_0(x,**kwargs):\n",
    "    import pickle\n",
    "    import numpy as np\n",
    "\n",
    "    x = np.array(x).flatten()  \n",
    "    dt = pickle.load(open(path+'0_dtc.pkl','rb'))\n",
    "    confidence_scores = dt.predict_proba([x])\n",
    "\n",
    "    return float(confidence_scores[0][1]) \n",
    "\n",
    "@labeling_function(cont_scorer=dt_0, label=ClassLabels.BASOPHIL)\n",
    "def LF_dt_0(x, **kwargs):\n",
    "    import pickle\n",
    "    import numpy as np\n",
    "\n",
    "    x = np.array(x).flatten()  \n",
    "    dt = pickle.load(open(path+'0_dtc.pkl','rb'))\n",
    "    \n",
    "    if dt.predict_proba([x])[0][1]>0.8: \n",
    "        return ClassLabels.BASOPHIL\n",
    "    else: \n",
    "        return ABSTAIN\n",
    "\n",
    "# Logistic Regression\n",
    "@continuous_scorer()\n",
    "def lr_0(x,**kwargs):\n",
    "    import pickle\n",
    "    import numpy as np\n",
    "\n",
    "    x = np.array(x).flatten()  \n",
    "    lr = pickle.load(open(path+'0_lr.pkl','rb'))\n",
    "    confidence_scores = lr.predict_proba([x])\n",
    "\n",
    "    return float(confidence_scores[0][1]) \n",
    "\n",
    "@labeling_function(cont_scorer=lr_0, label=ClassLabels.BASOPHIL)\n",
    "def LF_lr_0(x, **kwargs):\n",
    "    import pickle\n",
    "    import numpy as np\n",
    "\n",
    "    x = np.array(x).flatten()  \n",
    "    lr = pickle.load(open(path+'0_lr.pkl','rb'))\n",
    "    \n",
    "    if lr.predict_proba([x])[0][1]>0.8: \n",
    "        return ClassLabels.BASOPHIL\n",
    "    else: \n",
    "        return ABSTAIN\n"
   ]
  },
  {
   "cell_type": "markdown",
   "metadata": {},
   "source": [
    "#### LFs for Class 1"
   ]
  },
  {
   "cell_type": "code",
   "execution_count": null,
   "metadata": {},
   "outputs": [],
   "source": [
    "# SVM\n",
    "@continuous_scorer()\n",
    "def svm_1(x,**kwargs):\n",
    "    import pickle\n",
    "    import numpy as np\n",
    "\n",
    "    x = np.array(x).flatten() # x is 28x28x3 input img \n",
    "    svm = pickle.load(open(path+'1_svm.pkl','rb'))\n",
    "    confidence_scores = svm.predict_proba([x])\n",
    "\n",
    "    return float(confidence_scores[0][1]) #only called when model doesn't ABSTAIN, output confidence on class label\n",
    "\n",
    "@labeling_function(cont_scorer=svm_1, label=ClassLabels.EOSINOPHIL)\n",
    "def LF_svm_1(x, **kwargs):\n",
    "    import pickle\n",
    "    import numpy as np\n",
    "\n",
    "    x = np.array(x).flatten()  \n",
    "    svm = pickle.load(open(path+'1_svm.pkl','rb'))\n",
    "    \n",
    "    if svm.predict_proba([x])[0][1]>0.8: \n",
    "        return ClassLabels.EOSINOPHIL\n",
    "    else: \n",
    "        return ABSTAIN\n",
    "\n",
    "# Random Forest\n",
    "@continuous_scorer()\n",
    "def rf_1(x,**kwargs):\n",
    "    import pickle\n",
    "    import numpy as np\n",
    "\n",
    "    x = np.array(x).flatten()  \n",
    "    rf = pickle.load(open(path+'1_rf.pkl','rb'))\n",
    "    confidence_scores = rf.predict_proba([x])\n",
    "\n",
    "    return float(confidence_scores[0][1]) \n",
    "\n",
    "@labeling_function(cont_scorer=rf_1, label=ClassLabels.EOSINOPHIL)\n",
    "def LF_rf_1(x, **kwargs):\n",
    "    import pickle\n",
    "    import numpy as np\n",
    "\n",
    "    x = np.array(x).flatten()  \n",
    "    rf = pickle.load(open(path+'1_rf.pkl','rb'))\n",
    "    \n",
    "    if rf.predict_proba([x])[0][1]>0.8: \n",
    "        return ClassLabels.EOSINOPHIL\n",
    "    else: \n",
    "        return ABSTAIN\n",
    "\n",
    "# KNN\n",
    "@continuous_scorer()\n",
    "def knn_1(x,**kwargs):\n",
    "    import pickle\n",
    "    import numpy as np\n",
    "\n",
    "    x = np.array(x).flatten()  \n",
    "    knn = pickle.load(open(path+'1_knn.pkl','rb'))\n",
    "    confidence_scores = knn.predict_proba([x])\n",
    "\n",
    "    return float(confidence_scores[0][1]) \n",
    "\n",
    "\n",
    "@labeling_function(cont_scorer=knn_1, label=ClassLabels.EOSINOPHIL)\n",
    "def LF_knn_1(x, **kwargs):\n",
    "    import pickle\n",
    "    import numpy as np\n",
    "\n",
    "    x = np.array(x).flatten()  \n",
    "    knn = pickle.load(open(path+'1_knn.pkl','rb'))\n",
    "    \n",
    "    if knn.predict_proba([x])[0][1]>0.8: \n",
    "        return ClassLabels.EOSINOPHIL\n",
    "    else: \n",
    "        return ABSTAIN\n",
    "\n",
    "# Decision Tree \n",
    "@continuous_scorer()\n",
    "def dt_1(x,**kwargs):\n",
    "    import pickle\n",
    "    import numpy as np\n",
    "\n",
    "    x = np.array(x).flatten()  \n",
    "    dt = pickle.load(open(path+'1_dtc.pkl','rb'))\n",
    "    confidence_scores = dt.predict_proba([x])\n",
    "\n",
    "    return float(confidence_scores[0][1]) \n",
    "\n",
    "@labeling_function(cont_scorer=dt_1, label=ClassLabels.EOSINOPHIL)\n",
    "def LF_dt_1(x, **kwargs):\n",
    "    import pickle\n",
    "    import numpy as np\n",
    "\n",
    "    x = np.array(x).flatten()  \n",
    "    dt = pickle.load(open(path+'1_dtc.pkl','rb'))\n",
    "    \n",
    "    if dt.predict_proba([x])[0][1]>0.8: \n",
    "        return ClassLabels.EOSINOPHIL\n",
    "    else: \n",
    "        return ABSTAIN\n",
    "\n",
    "# Logistic Regression\n",
    "@continuous_scorer()\n",
    "def lr_1(x,**kwargs):\n",
    "    import pickle\n",
    "    import numpy as np\n",
    "\n",
    "    x = np.array(x).flatten()  \n",
    "    lr = pickle.load(open(path+'1_lr.pkl','rb'))\n",
    "    confidence_scores = lr.predict_proba([x])\n",
    "\n",
    "    return float(confidence_scores[0][1]) \n",
    "\n",
    "@labeling_function(cont_scorer=lr_1, label=ClassLabels.EOSINOPHIL)\n",
    "def LF_lr_1(x, **kwargs):\n",
    "    import pickle\n",
    "    import numpy as np\n",
    "\n",
    "    x = np.array(x).flatten()  \n",
    "    lr = pickle.load(open(path+'1_lr.pkl','rb'))\n",
    "    \n",
    "    if lr.predict_proba([x])[0][1]>0.8: \n",
    "        return ClassLabels.EOSINOPHIL\n",
    "    else: \n",
    "        return ABSTAIN\n"
   ]
  },
  {
   "cell_type": "markdown",
   "metadata": {},
   "source": [
    "#### LFs for Class 2"
   ]
  },
  {
   "cell_type": "code",
   "execution_count": null,
   "metadata": {},
   "outputs": [],
   "source": [
    "# SVM\n",
    "@continuous_scorer()\n",
    "def svm_2(x,**kwargs):\n",
    "    import pickle\n",
    "    import numpy as np\n",
    "\n",
    "    x = np.array(x).flatten() # x is 28x28x3 input img \n",
    "    svm = pickle.load(open(path+'2_svm.pkl','rb'))\n",
    "    confidence_scores = svm.predict_proba([x])\n",
    "\n",
    "    return float(confidence_scores[0][1]) #only called when model doesn't ABSTAIN, output confidence on class label\n",
    "\n",
    "@labeling_function(cont_scorer=svm_2, label=ClassLabels.PLATELET)\n",
    "def LF_svm_2(x, **kwargs):\n",
    "    import pickle\n",
    "    import numpy as np\n",
    "\n",
    "    x = np.array(x).flatten()  \n",
    "    svm = pickle.load(open(path+'2_svm.pkl','rb'))\n",
    "    \n",
    "    if svm.predict_proba([x])[0][1]>0.8: \n",
    "        return ClassLabels.PLATELET\n",
    "    else: \n",
    "        return ABSTAIN\n",
    "\n",
    "# Random Forest\n",
    "@continuous_scorer()\n",
    "def rf_2(x,**kwargs):\n",
    "    import pickle\n",
    "    import numpy as np\n",
    "\n",
    "    x = np.array(x).flatten()  \n",
    "    rf = pickle.load(open(path+'2_rf.pkl','rb'))\n",
    "    confidence_scores = rf.predict_proba([x])\n",
    "\n",
    "    return float(confidence_scores[0][1]) \n",
    "\n",
    "@labeling_function(cont_scorer=rf_2, label=ClassLabels.PLATELET)\n",
    "def LF_rf_2(x, **kwargs):\n",
    "    import pickle\n",
    "    import numpy as np\n",
    "\n",
    "    x = np.array(x).flatten()  \n",
    "    rf = pickle.load(open(path+'2_rf.pkl','rb'))\n",
    "    \n",
    "    if rf.predict_proba([x])[0][1]>0.8: \n",
    "        return ClassLabels.PLATELET\n",
    "    else: \n",
    "        return ABSTAIN\n",
    "\n",
    "# KNN\n",
    "@continuous_scorer()\n",
    "def knn_2(x,**kwargs):\n",
    "    import pickle\n",
    "    import numpy as np\n",
    "\n",
    "    x = np.array(x).flatten()  \n",
    "    knn = pickle.load(open(path+'2_knn.pkl','rb'))\n",
    "    confidence_scores = knn.predict_proba([x])\n",
    "\n",
    "    return float(confidence_scores[0][1]) \n",
    "\n",
    "\n",
    "@labeling_function(cont_scorer=knn_2, label=ClassLabels.PLATELET)\n",
    "def LF_knn_2(x, **kwargs):\n",
    "    import pickle\n",
    "    import numpy as np\n",
    "\n",
    "    x = np.array(x).flatten()  \n",
    "    knn = pickle.load(open(path+'2_knn.pkl','rb'))\n",
    "    \n",
    "    if knn.predict_proba([x])[0][1]>0.8: \n",
    "        return ClassLabels.PLATELET\n",
    "    else: \n",
    "        return ABSTAIN\n",
    "\n",
    "# Decision Tree \n",
    "@continuous_scorer()\n",
    "def dt_2(x,**kwargs):\n",
    "    import pickle\n",
    "    import numpy as np\n",
    "\n",
    "    x = np.array(x).flatten()  \n",
    "    dt = pickle.load(open(path+'2_dtc.pkl','rb'))\n",
    "    confidence_scores = dt.predict_proba([x])\n",
    "\n",
    "    return float(confidence_scores[0][1]) \n",
    "\n",
    "@labeling_function(cont_scorer=dt_2, label=ClassLabels.PLATELET)\n",
    "def LF_dt_2(x, **kwargs):\n",
    "    import pickle\n",
    "    import numpy as np\n",
    "\n",
    "    x = np.array(x).flatten()  \n",
    "    dt = pickle.load(open(path+'2_dtc.pkl','rb'))\n",
    "    \n",
    "    if dt.predict_proba([x])[0][1]>0.8: \n",
    "        return ClassLabels.PLATELET\n",
    "    else: \n",
    "        return ABSTAIN\n",
    "\n",
    "# Logistic Regression\n",
    "@continuous_scorer()\n",
    "def lr_2(x,**kwargs):\n",
    "    import pickle\n",
    "    import numpy as np\n",
    "\n",
    "    x = np.array(x).flatten()  \n",
    "    lr = pickle.load(open(path+'2_lr.pkl','rb'))\n",
    "    confidence_scores = lr.predict_proba([x])\n",
    "\n",
    "    return float(confidence_scores[0][1]) \n",
    "\n",
    "@labeling_function(cont_scorer=lr_2, label=ClassLabels.PLATELET)\n",
    "def LF_lr_2(x, **kwargs):\n",
    "    import pickle\n",
    "    import numpy as np\n",
    "\n",
    "    x = np.array(x).flatten()  \n",
    "    lr = pickle.load(open(path+'2_lr.pkl','rb'))\n",
    "    \n",
    "    if lr.predict_proba([x])[0][1]>0.8: \n",
    "        return ClassLabels.PLATELET\n",
    "    else: \n",
    "        return ABSTAIN\n"
   ]
  },
  {
   "cell_type": "markdown",
   "metadata": {},
   "source": [
    "## Aggregating LFs & Labelling dataset "
   ]
  },
  {
   "cell_type": "markdown",
   "metadata": {},
   "source": [
    "### LFSet\n",
    "Placeholder for declared LFs"
   ]
  },
  {
   "cell_type": "code",
   "execution_count": null,
   "metadata": {},
   "outputs": [],
   "source": [
    "from spear.labeling import LFSet\n",
    "\n",
    "LFS = [\n",
    "    LF_svm_0,\n",
    "    LF_rf_0,\n",
    "    LF_knn_0,\n",
    "    LF_dt_0,\n",
    "    LF_lr_0,\n",
    "    LF_svm_1,\n",
    "    LF_rf_1,\n",
    "    LF_knn_1,\n",
    "    LF_dt_1,\n",
    "    LF_lr_1,\n",
    "    LF_svm_2,\n",
    "    LF_rf_2,\n",
    "    LF_knn_2,\n",
    "    LF_dt_2,\n",
    "    LF_lr_2    \n",
    "]\n",
    "\n",
    "\n",
    "rules = LFSet(\"BM_LF\")\n",
    "rules.add_lf_list(LFS)"
   ]
  },
  {
   "cell_type": "markdown",
   "metadata": {},
   "source": [
    "### Load the dataset"
   ]
  },
  {
   "cell_type": "code",
   "execution_count": null,
   "metadata": {},
   "outputs": [
    {
     "name": "stdout",
     "output_type": "stream",
     "text": [
      "\n"
     ]
    }
   ],
   "source": [
    "from utils import custom_dataset, train_all_LF\n",
    "from generate_LF import get_variables\n",
    "classes,label_frac,data_path,save_path = get_variables()\n",
    "dataset,x,y = custom_dataset(path=data_path ,fraction=label_frac)\n",
    "# train_all_LF(x,y,len(classes),save_path,label_frac)"
   ]
  },
  {
   "cell_type": "markdown",
   "metadata": {},
   "source": [
    "## Cage"
   ]
  },
  {
   "cell_type": "code",
   "execution_count": null,
   "metadata": {},
   "outputs": [],
   "source": [
    "log_path_cage = './cage/log.txt' #jl is an algorithm, can be found below\n",
    "params_path = './cage/params.pkl' #file path to store parameters of JL, used below\n",
    "path_json = \"./cage/labels.json\"\n",
    "U_path_pkl = \"./cage/unlabelled.pkl\"\n",
    "L_path_pkl = \"./cage/labelled.pkl\"\n",
    "n_lfs = len(LFS)"
   ]
  },
  {
   "cell_type": "code",
   "execution_count": null,
   "metadata": {},
   "outputs": [
    {
     "name": "stderr",
     "output_type": "stream",
     "text": [
      "c:\\Users\\akshi\\Desktop\\DDP\\ensemblelf\\lib\\site-packages\\tqdm\\auto.py:21: TqdmWarning: IProgress not found. Please update jupyter and ipywidgets. See https://ipywidgets.readthedocs.io/en/stable/user_install.html\n",
      "  from .autonotebook import tqdm as notebook_tqdm\n"
     ]
    }
   ],
   "source": [
    "from spear.labeling import PreLabels\n",
    "import numpy as np\n",
    "from spear.cage import Cage"
   ]
  },
  {
   "cell_type": "code",
   "execution_count": null,
   "metadata": {},
   "outputs": [],
   "source": [
    "xu = np.array(dataset['rem_images'])\n",
    "yu = np.array(dataset['rem_labels'])"
   ]
  },
  {
   "cell_type": "code",
   "execution_count": 65,
   "metadata": {},
   "outputs": [
    {
     "name": "stdout",
     "output_type": "stream",
     "text": [
      "a\n"
     ]
    },
    {
     "name": "stderr",
     "output_type": "stream",
     "text": [
      "  0%|          | 15/4443 [00:08<40:42,  1.81it/s]\n"
     ]
    },
    {
     "ename": "KeyboardInterrupt",
     "evalue": "",
     "output_type": "error",
     "traceback": [
      "\u001b[1;31m---------------------------------------------------------------------------\u001b[0m",
      "\u001b[1;31mKeyboardInterrupt\u001b[0m                         Traceback (most recent call last)",
      "Cell \u001b[1;32mIn[65], line 9\u001b[0m\n\u001b[0;32m      7\u001b[0m \u001b[38;5;66;03m# Lu,Su = u_noisy_labels.get_labels()\u001b[39;00m\n\u001b[0;32m      8\u001b[0m \u001b[38;5;28mprint\u001b[39m(\u001b[38;5;124m'\u001b[39m\u001b[38;5;124ma\u001b[39m\u001b[38;5;124m'\u001b[39m)\n\u001b[1;32m----> 9\u001b[0m uOutput \u001b[38;5;241m=\u001b[39m \u001b[43mu_noisy_labels\u001b[49m\u001b[38;5;241;43m.\u001b[39;49m\u001b[43mgenerate_pickle\u001b[49m\u001b[43m(\u001b[49m\u001b[43mU_path_pkl\u001b[49m\u001b[43m)\u001b[49m\n",
      "File \u001b[1;32mc:\\Users\\akshi\\Desktop\\DDP\\ensemblelf\\lib\\site-packages\\spear\\labeling\\prelabels\\core.py:125\u001b[0m, in \u001b[0;36mPreLabels.generate_pickle\u001b[1;34m(self, filename)\u001b[0m\n\u001b[0;32m    <a href='file:///c%3A/Users/akshi/Desktop/DDP/ensemblelf/lib/site-packages/spear/labeling/prelabels/core.py?line=122'>123</a>\u001b[0m \u001b[39mif\u001b[39;00m (\u001b[39mself\u001b[39m\u001b[39m.\u001b[39m_L \u001b[39mis\u001b[39;00m \u001b[39mNone\u001b[39;00m \u001b[39mor\u001b[39;00m \u001b[39mself\u001b[39m\u001b[39m.\u001b[39m_S \u001b[39mis\u001b[39;00m \u001b[39mNone\u001b[39;00m):\n\u001b[0;32m    <a href='file:///c%3A/Users/akshi/Desktop/DDP/ensemblelf/lib/site-packages/spear/labeling/prelabels/core.py?line=123'>124</a>\u001b[0m     applier \u001b[39m=\u001b[39m LFApplier(lf_set \u001b[39m=\u001b[39m \u001b[39mself\u001b[39m\u001b[39m.\u001b[39m_rules)\n\u001b[1;32m--> <a href='file:///c%3A/Users/akshi/Desktop/DDP/ensemblelf/lib/site-packages/spear/labeling/prelabels/core.py?line=124'>125</a>\u001b[0m     L,S \u001b[39m=\u001b[39m applier\u001b[39m.\u001b[39;49mapply(\u001b[39mself\u001b[39;49m\u001b[39m.\u001b[39;49m_data)\n\u001b[0;32m    <a href='file:///c%3A/Users/akshi/Desktop/DDP/ensemblelf/lib/site-packages/spear/labeling/prelabels/core.py?line=125'>126</a>\u001b[0m     \u001b[39mself\u001b[39m\u001b[39m.\u001b[39m_L \u001b[39m=\u001b[39m L\n\u001b[0;32m    <a href='file:///c%3A/Users/akshi/Desktop/DDP/ensemblelf/lib/site-packages/spear/labeling/prelabels/core.py?line=126'>127</a>\u001b[0m     \u001b[39mself\u001b[39m\u001b[39m.\u001b[39m_S \u001b[39m=\u001b[39m S\n",
      "File \u001b[1;32mc:\\Users\\akshi\\Desktop\\DDP\\ensemblelf\\lib\\site-packages\\spear\\labeling\\apply\\core.py:163\u001b[0m, in \u001b[0;36mLFApplier.apply\u001b[1;34m(self, data_points, progress_bar, fault_tolerant, return_meta)\u001b[0m\n\u001b[0;32m    <a href='file:///c%3A/Users/akshi/Desktop/DDP/ensemblelf/lib/site-packages/spear/labeling/apply/core.py?line=160'>161</a>\u001b[0m     \u001b[39mwith\u001b[39;00m tqdm(total\u001b[39m=\u001b[39m\u001b[39mlen\u001b[39m(data_points)) \u001b[39mas\u001b[39;00m pbar:\n\u001b[0;32m    <a href='file:///c%3A/Users/akshi/Desktop/DDP/ensemblelf/lib/site-packages/spear/labeling/apply/core.py?line=161'>162</a>\u001b[0m         \u001b[39mfor\u001b[39;00m i, x \u001b[39min\u001b[39;00m \u001b[39menumerate\u001b[39m(data_points):\n\u001b[1;32m--> <a href='file:///c%3A/Users/akshi/Desktop/DDP/ensemblelf/lib/site-packages/spear/labeling/apply/core.py?line=162'>163</a>\u001b[0m             labels\u001b[39m.\u001b[39mappend(apply_lfs_to_data_point(x, i, \u001b[39mself\u001b[39;49m\u001b[39m.\u001b[39;49m_lfs, f_caller))\n\u001b[0;32m    <a href='file:///c%3A/Users/akshi/Desktop/DDP/ensemblelf/lib/site-packages/spear/labeling/apply/core.py?line=163'>164</a>\u001b[0m             pbar\u001b[39m.\u001b[39mupdate()\n\u001b[0;32m    <a href='file:///c%3A/Users/akshi/Desktop/DDP/ensemblelf/lib/site-packages/spear/labeling/apply/core.py?line=164'>165</a>\u001b[0m \u001b[39melse\u001b[39;00m:\n",
      "File \u001b[1;32mc:\\Users\\akshi\\Desktop\\DDP\\ensemblelf\\lib\\site-packages\\spear\\labeling\\apply\\core.py:102\u001b[0m, in \u001b[0;36mapply_lfs_to_data_point\u001b[1;34m(x, index, lfs, f_caller)\u001b[0m\n\u001b[0;32m    <a href='file:///c%3A/Users/akshi/Desktop/DDP/ensemblelf/lib/site-packages/spear/labeling/apply/core.py?line=99'>100</a>\u001b[0m labels \u001b[39m=\u001b[39m []\n\u001b[0;32m    <a href='file:///c%3A/Users/akshi/Desktop/DDP/ensemblelf/lib/site-packages/spear/labeling/apply/core.py?line=100'>101</a>\u001b[0m \u001b[39mfor\u001b[39;00m j, lf \u001b[39min\u001b[39;00m \u001b[39menumerate\u001b[39m(lfs):\n\u001b[1;32m--> <a href='file:///c%3A/Users/akshi/Desktop/DDP/ensemblelf/lib/site-packages/spear/labeling/apply/core.py?line=101'>102</a>\u001b[0m     y, z \u001b[39m=\u001b[39m f_caller(lf, x)\n\u001b[0;32m    <a href='file:///c%3A/Users/akshi/Desktop/DDP/ensemblelf/lib/site-packages/spear/labeling/apply/core.py?line=102'>103</a>\u001b[0m     \u001b[39mif\u001b[39;00m (y\u001b[39m==\u001b[39mABSTAIN \u001b[39mand\u001b[39;00m z \u001b[39mis\u001b[39;00m \u001b[39mNone\u001b[39;00m):\n\u001b[0;32m    <a href='file:///c%3A/Users/akshi/Desktop/DDP/ensemblelf/lib/site-packages/spear/labeling/apply/core.py?line=103'>104</a>\u001b[0m         \u001b[39mcontinue\u001b[39;00m\n",
      "File \u001b[1;32mc:\\Users\\akshi\\Desktop\\DDP\\ensemblelf\\lib\\site-packages\\spear\\labeling\\apply\\core.py:30\u001b[0m, in \u001b[0;36m_FunctionCaller.__call__\u001b[1;34m(self, f, x)\u001b[0m\n\u001b[0;32m     <a href='file:///c%3A/Users/akshi/Desktop/DDP/ensemblelf/lib/site-packages/spear/labeling/apply/core.py?line=27'>28</a>\u001b[0m \u001b[39mdef\u001b[39;00m \u001b[39m__call__\u001b[39m(\u001b[39mself\u001b[39m, f: LabelingFunction, x: DataPoint):\n\u001b[0;32m     <a href='file:///c%3A/Users/akshi/Desktop/DDP/ensemblelf/lib/site-packages/spear/labeling/apply/core.py?line=28'>29</a>\u001b[0m     \u001b[39mif\u001b[39;00m \u001b[39mnot\u001b[39;00m \u001b[39mself\u001b[39m\u001b[39m.\u001b[39mfault_tolerant:\n\u001b[1;32m---> <a href='file:///c%3A/Users/akshi/Desktop/DDP/ensemblelf/lib/site-packages/spear/labeling/apply/core.py?line=29'>30</a>\u001b[0m         \u001b[39mreturn\u001b[39;00m f(x)\n\u001b[0;32m     <a href='file:///c%3A/Users/akshi/Desktop/DDP/ensemblelf/lib/site-packages/spear/labeling/apply/core.py?line=30'>31</a>\u001b[0m     \u001b[39mtry\u001b[39;00m:\n\u001b[0;32m     <a href='file:///c%3A/Users/akshi/Desktop/DDP/ensemblelf/lib/site-packages/spear/labeling/apply/core.py?line=31'>32</a>\u001b[0m         \u001b[39mreturn\u001b[39;00m f(x)\n",
      "File \u001b[1;32mc:\\Users\\akshi\\Desktop\\DDP\\ensemblelf\\lib\\site-packages\\spear\\labeling\\lf\\core.py:75\u001b[0m, in \u001b[0;36mLabelingFunction.__call__\u001b[1;34m(self, x)\u001b[0m\n\u001b[0;32m     <a href='file:///c%3A/Users/akshi/Desktop/DDP/ensemblelf/lib/site-packages/spear/labeling/lf/core.py?line=72'>73</a>\u001b[0m     cs \u001b[39m=\u001b[39m \u001b[39mself\u001b[39m\u001b[39m.\u001b[39m_cont_scorer(x,\u001b[39m*\u001b[39m\u001b[39m*\u001b[39m\u001b[39mself\u001b[39m\u001b[39m.\u001b[39m_resources)     \u001b[39m# continuous score\u001b[39;00m\n\u001b[0;32m     <a href='file:///c%3A/Users/akshi/Desktop/DDP/ensemblelf/lib/site-packages/spear/labeling/lf/core.py?line=73'>74</a>\u001b[0m     dic \u001b[39m=\u001b[39m {\u001b[39m\"\u001b[39m\u001b[39mcontinuous_score\u001b[39m\u001b[39m\"\u001b[39m: cs}\n\u001b[1;32m---> <a href='file:///c%3A/Users/akshi/Desktop/DDP/ensemblelf/lib/site-packages/spear/labeling/lf/core.py?line=74'>75</a>\u001b[0m     \u001b[39mreturn\u001b[39;00m \u001b[39mself\u001b[39m\u001b[39m.\u001b[39m_f(x,\u001b[39m*\u001b[39m\u001b[39m*\u001b[39m\u001b[39mself\u001b[39m\u001b[39m.\u001b[39m_resources, \u001b[39m*\u001b[39m\u001b[39m*\u001b[39mdic), cs\n\u001b[0;32m     <a href='file:///c%3A/Users/akshi/Desktop/DDP/ensemblelf/lib/site-packages/spear/labeling/lf/core.py?line=75'>76</a>\u001b[0m \u001b[39melse\u001b[39;00m:\n\u001b[0;32m     <a href='file:///c%3A/Users/akshi/Desktop/DDP/ensemblelf/lib/site-packages/spear/labeling/lf/core.py?line=76'>77</a>\u001b[0m     cs \u001b[39m=\u001b[39m \u001b[39mNone\u001b[39;00m\n",
      "Cell \u001b[1;32mIn[4], line 72\u001b[0m, in \u001b[0;36mLF_knn_1\u001b[1;34m(x, **kwargs)\u001b[0m\n\u001b[0;32m     69\u001b[0m x \u001b[38;5;241m=\u001b[39m np\u001b[38;5;241m.\u001b[39marray(x)\u001b[38;5;241m.\u001b[39mflatten()  \n\u001b[0;32m     70\u001b[0m knn \u001b[38;5;241m=\u001b[39m pickle\u001b[38;5;241m.\u001b[39mload(\u001b[38;5;28mopen\u001b[39m(path\u001b[38;5;241m+\u001b[39m\u001b[38;5;124m'\u001b[39m\u001b[38;5;124m1_knn.pkl\u001b[39m\u001b[38;5;124m'\u001b[39m,\u001b[38;5;124m'\u001b[39m\u001b[38;5;124mrb\u001b[39m\u001b[38;5;124m'\u001b[39m))\n\u001b[1;32m---> 72\u001b[0m \u001b[38;5;28;01mif\u001b[39;00m \u001b[43mknn\u001b[49m\u001b[38;5;241;43m.\u001b[39;49m\u001b[43mpredict_proba\u001b[49m\u001b[43m(\u001b[49m\u001b[43m[\u001b[49m\u001b[43mx\u001b[49m\u001b[43m]\u001b[49m\u001b[43m)\u001b[49m[\u001b[38;5;241m0\u001b[39m][\u001b[38;5;241m1\u001b[39m]\u001b[38;5;241m>\u001b[39m\u001b[38;5;241m0.8\u001b[39m: \n\u001b[0;32m     73\u001b[0m     \u001b[38;5;28;01mreturn\u001b[39;00m ClassLabels\u001b[38;5;241m.\u001b[39mEOSINOPHIL\n\u001b[0;32m     74\u001b[0m \u001b[38;5;28;01melse\u001b[39;00m: \n",
      "File \u001b[1;32mc:\\Users\\akshi\\Desktop\\DDP\\ensemblelf\\lib\\site-packages\\sklearn\\neighbors\\_classification.py:256\u001b[0m, in \u001b[0;36mKNeighborsClassifier.predict_proba\u001b[1;34m(self, X)\u001b[0m\n\u001b[0;32m    <a href='file:///c%3A/Users/akshi/Desktop/DDP/ensemblelf/lib/site-packages/sklearn/neighbors/_classification.py?line=239'>240</a>\u001b[0m \u001b[39mdef\u001b[39;00m \u001b[39mpredict_proba\u001b[39m(\u001b[39mself\u001b[39m, X):\n\u001b[0;32m    <a href='file:///c%3A/Users/akshi/Desktop/DDP/ensemblelf/lib/site-packages/sklearn/neighbors/_classification.py?line=240'>241</a>\u001b[0m \u001b[39m    \u001b[39m\u001b[39m\"\"\"Return probability estimates for the test data X.\u001b[39;00m\n\u001b[0;32m    <a href='file:///c%3A/Users/akshi/Desktop/DDP/ensemblelf/lib/site-packages/sklearn/neighbors/_classification.py?line=241'>242</a>\u001b[0m \n\u001b[0;32m    <a href='file:///c%3A/Users/akshi/Desktop/DDP/ensemblelf/lib/site-packages/sklearn/neighbors/_classification.py?line=242'>243</a>\u001b[0m \u001b[39m    Parameters\u001b[39;00m\n\u001b[1;32m   (...)\u001b[0m\n\u001b[0;32m    <a href='file:///c%3A/Users/akshi/Desktop/DDP/ensemblelf/lib/site-packages/sklearn/neighbors/_classification.py?line=253'>254</a>\u001b[0m \u001b[39m        by lexicographic order.\u001b[39;00m\n\u001b[0;32m    <a href='file:///c%3A/Users/akshi/Desktop/DDP/ensemblelf/lib/site-packages/sklearn/neighbors/_classification.py?line=254'>255</a>\u001b[0m \u001b[39m    \"\"\"\u001b[39;00m\n\u001b[1;32m--> <a href='file:///c%3A/Users/akshi/Desktop/DDP/ensemblelf/lib/site-packages/sklearn/neighbors/_classification.py?line=255'>256</a>\u001b[0m     neigh_dist, neigh_ind \u001b[39m=\u001b[39m \u001b[39mself\u001b[39;49m\u001b[39m.\u001b[39;49mkneighbors(X)\n\u001b[0;32m    <a href='file:///c%3A/Users/akshi/Desktop/DDP/ensemblelf/lib/site-packages/sklearn/neighbors/_classification.py?line=257'>258</a>\u001b[0m     classes_ \u001b[39m=\u001b[39m \u001b[39mself\u001b[39m\u001b[39m.\u001b[39mclasses_\n\u001b[0;32m    <a href='file:///c%3A/Users/akshi/Desktop/DDP/ensemblelf/lib/site-packages/sklearn/neighbors/_classification.py?line=258'>259</a>\u001b[0m     _y \u001b[39m=\u001b[39m \u001b[39mself\u001b[39m\u001b[39m.\u001b[39m_y\n",
      "File \u001b[1;32mc:\\Users\\akshi\\Desktop\\DDP\\ensemblelf\\lib\\site-packages\\sklearn\\neighbors\\_base.py:752\u001b[0m, in \u001b[0;36mKNeighborsMixin.kneighbors\u001b[1;34m(self, X, n_neighbors, return_distance)\u001b[0m\n\u001b[0;32m    <a href='file:///c%3A/Users/akshi/Desktop/DDP/ensemblelf/lib/site-packages/sklearn/neighbors/_base.py?line=748'>749</a>\u001b[0m     \u001b[39melse\u001b[39;00m:\n\u001b[0;32m    <a href='file:///c%3A/Users/akshi/Desktop/DDP/ensemblelf/lib/site-packages/sklearn/neighbors/_base.py?line=749'>750</a>\u001b[0m         kwds \u001b[39m=\u001b[39m \u001b[39mself\u001b[39m\u001b[39m.\u001b[39meffective_metric_params_\n\u001b[1;32m--> <a href='file:///c%3A/Users/akshi/Desktop/DDP/ensemblelf/lib/site-packages/sklearn/neighbors/_base.py?line=751'>752</a>\u001b[0m     chunked_results \u001b[39m=\u001b[39m \u001b[39mlist\u001b[39;49m(\n\u001b[0;32m    <a href='file:///c%3A/Users/akshi/Desktop/DDP/ensemblelf/lib/site-packages/sklearn/neighbors/_base.py?line=752'>753</a>\u001b[0m         pairwise_distances_chunked(\n\u001b[0;32m    <a href='file:///c%3A/Users/akshi/Desktop/DDP/ensemblelf/lib/site-packages/sklearn/neighbors/_base.py?line=753'>754</a>\u001b[0m             X,\n\u001b[0;32m    <a href='file:///c%3A/Users/akshi/Desktop/DDP/ensemblelf/lib/site-packages/sklearn/neighbors/_base.py?line=754'>755</a>\u001b[0m             \u001b[39mself\u001b[39;49m\u001b[39m.\u001b[39;49m_fit_X,\n\u001b[0;32m    <a href='file:///c%3A/Users/akshi/Desktop/DDP/ensemblelf/lib/site-packages/sklearn/neighbors/_base.py?line=755'>756</a>\u001b[0m             reduce_func\u001b[39m=\u001b[39;49mreduce_func,\n\u001b[0;32m    <a href='file:///c%3A/Users/akshi/Desktop/DDP/ensemblelf/lib/site-packages/sklearn/neighbors/_base.py?line=756'>757</a>\u001b[0m             metric\u001b[39m=\u001b[39;49m\u001b[39mself\u001b[39;49m\u001b[39m.\u001b[39;49meffective_metric_,\n\u001b[0;32m    <a href='file:///c%3A/Users/akshi/Desktop/DDP/ensemblelf/lib/site-packages/sklearn/neighbors/_base.py?line=757'>758</a>\u001b[0m             n_jobs\u001b[39m=\u001b[39;49mn_jobs,\n\u001b[0;32m    <a href='file:///c%3A/Users/akshi/Desktop/DDP/ensemblelf/lib/site-packages/sklearn/neighbors/_base.py?line=758'>759</a>\u001b[0m             \u001b[39m*\u001b[39;49m\u001b[39m*\u001b[39;49mkwds,\n\u001b[0;32m    <a href='file:///c%3A/Users/akshi/Desktop/DDP/ensemblelf/lib/site-packages/sklearn/neighbors/_base.py?line=759'>760</a>\u001b[0m         )\n\u001b[0;32m    <a href='file:///c%3A/Users/akshi/Desktop/DDP/ensemblelf/lib/site-packages/sklearn/neighbors/_base.py?line=760'>761</a>\u001b[0m     )\n\u001b[0;32m    <a href='file:///c%3A/Users/akshi/Desktop/DDP/ensemblelf/lib/site-packages/sklearn/neighbors/_base.py?line=762'>763</a>\u001b[0m \u001b[39melif\u001b[39;00m \u001b[39mself\u001b[39m\u001b[39m.\u001b[39m_fit_method \u001b[39min\u001b[39;00m [\u001b[39m\"\u001b[39m\u001b[39mball_tree\u001b[39m\u001b[39m\"\u001b[39m, \u001b[39m\"\u001b[39m\u001b[39mkd_tree\u001b[39m\u001b[39m\"\u001b[39m]:\n\u001b[0;32m    <a href='file:///c%3A/Users/akshi/Desktop/DDP/ensemblelf/lib/site-packages/sklearn/neighbors/_base.py?line=763'>764</a>\u001b[0m     \u001b[39mif\u001b[39;00m issparse(X):\n",
      "File \u001b[1;32mc:\\Users\\akshi\\Desktop\\DDP\\ensemblelf\\lib\\site-packages\\sklearn\\metrics\\pairwise.py:1717\u001b[0m, in \u001b[0;36mpairwise_distances_chunked\u001b[1;34m(X, Y, reduce_func, metric, n_jobs, working_memory, **kwds)\u001b[0m\n\u001b[0;32m   <a href='file:///c%3A/Users/akshi/Desktop/DDP/ensemblelf/lib/site-packages/sklearn/metrics/pairwise.py?line=1714'>1715</a>\u001b[0m \u001b[39melse\u001b[39;00m:\n\u001b[0;32m   <a href='file:///c%3A/Users/akshi/Desktop/DDP/ensemblelf/lib/site-packages/sklearn/metrics/pairwise.py?line=1715'>1716</a>\u001b[0m     X_chunk \u001b[39m=\u001b[39m X[sl]\n\u001b[1;32m-> <a href='file:///c%3A/Users/akshi/Desktop/DDP/ensemblelf/lib/site-packages/sklearn/metrics/pairwise.py?line=1716'>1717</a>\u001b[0m D_chunk \u001b[39m=\u001b[39m pairwise_distances(X_chunk, Y, metric\u001b[39m=\u001b[39mmetric, n_jobs\u001b[39m=\u001b[39mn_jobs, \u001b[39m*\u001b[39m\u001b[39m*\u001b[39mkwds)\n\u001b[0;32m   <a href='file:///c%3A/Users/akshi/Desktop/DDP/ensemblelf/lib/site-packages/sklearn/metrics/pairwise.py?line=1717'>1718</a>\u001b[0m \u001b[39mif\u001b[39;00m (X \u001b[39mis\u001b[39;00m Y \u001b[39mor\u001b[39;00m Y \u001b[39mis\u001b[39;00m \u001b[39mNone\u001b[39;00m) \u001b[39mand\u001b[39;00m PAIRWISE_DISTANCE_FUNCTIONS\u001b[39m.\u001b[39mget(\n\u001b[0;32m   <a href='file:///c%3A/Users/akshi/Desktop/DDP/ensemblelf/lib/site-packages/sklearn/metrics/pairwise.py?line=1718'>1719</a>\u001b[0m     metric, \u001b[39mNone\u001b[39;00m\n\u001b[0;32m   <a href='file:///c%3A/Users/akshi/Desktop/DDP/ensemblelf/lib/site-packages/sklearn/metrics/pairwise.py?line=1719'>1720</a>\u001b[0m ) \u001b[39mis\u001b[39;00m euclidean_distances:\n\u001b[0;32m   <a href='file:///c%3A/Users/akshi/Desktop/DDP/ensemblelf/lib/site-packages/sklearn/metrics/pairwise.py?line=1720'>1721</a>\u001b[0m     \u001b[39m# zeroing diagonal, taking care of aliases of \"euclidean\",\u001b[39;00m\n\u001b[0;32m   <a href='file:///c%3A/Users/akshi/Desktop/DDP/ensemblelf/lib/site-packages/sklearn/metrics/pairwise.py?line=1721'>1722</a>\u001b[0m     \u001b[39m# i.e. \"l2\"\u001b[39;00m\n\u001b[0;32m   <a href='file:///c%3A/Users/akshi/Desktop/DDP/ensemblelf/lib/site-packages/sklearn/metrics/pairwise.py?line=1722'>1723</a>\u001b[0m     D_chunk\u001b[39m.\u001b[39mflat[sl\u001b[39m.\u001b[39mstart :: _num_samples(X) \u001b[39m+\u001b[39m \u001b[39m1\u001b[39m] \u001b[39m=\u001b[39m \u001b[39m0\u001b[39m\n",
      "File \u001b[1;32mc:\\Users\\akshi\\Desktop\\DDP\\ensemblelf\\lib\\site-packages\\sklearn\\metrics\\pairwise.py:1889\u001b[0m, in \u001b[0;36mpairwise_distances\u001b[1;34m(X, Y, metric, n_jobs, force_all_finite, **kwds)\u001b[0m\n\u001b[0;32m   <a href='file:///c%3A/Users/akshi/Desktop/DDP/ensemblelf/lib/site-packages/sklearn/metrics/pairwise.py?line=1885'>1886</a>\u001b[0m         \u001b[39mreturn\u001b[39;00m distance\u001b[39m.\u001b[39msquareform(distance\u001b[39m.\u001b[39mpdist(X, metric\u001b[39m=\u001b[39mmetric, \u001b[39m*\u001b[39m\u001b[39m*\u001b[39mkwds))\n\u001b[0;32m   <a href='file:///c%3A/Users/akshi/Desktop/DDP/ensemblelf/lib/site-packages/sklearn/metrics/pairwise.py?line=1886'>1887</a>\u001b[0m     func \u001b[39m=\u001b[39m partial(distance\u001b[39m.\u001b[39mcdist, metric\u001b[39m=\u001b[39mmetric, \u001b[39m*\u001b[39m\u001b[39m*\u001b[39mkwds)\n\u001b[1;32m-> <a href='file:///c%3A/Users/akshi/Desktop/DDP/ensemblelf/lib/site-packages/sklearn/metrics/pairwise.py?line=1888'>1889</a>\u001b[0m \u001b[39mreturn\u001b[39;00m _parallel_pairwise(X, Y, func, n_jobs, \u001b[39m*\u001b[39m\u001b[39m*\u001b[39mkwds)\n",
      "File \u001b[1;32mc:\\Users\\akshi\\Desktop\\DDP\\ensemblelf\\lib\\site-packages\\sklearn\\metrics\\pairwise.py:1430\u001b[0m, in \u001b[0;36m_parallel_pairwise\u001b[1;34m(X, Y, func, n_jobs, **kwds)\u001b[0m\n\u001b[0;32m   <a href='file:///c%3A/Users/akshi/Desktop/DDP/ensemblelf/lib/site-packages/sklearn/metrics/pairwise.py?line=1426'>1427</a>\u001b[0m X, Y, dtype \u001b[39m=\u001b[39m _return_float_dtype(X, Y)\n\u001b[0;32m   <a href='file:///c%3A/Users/akshi/Desktop/DDP/ensemblelf/lib/site-packages/sklearn/metrics/pairwise.py?line=1428'>1429</a>\u001b[0m \u001b[39mif\u001b[39;00m effective_n_jobs(n_jobs) \u001b[39m==\u001b[39m \u001b[39m1\u001b[39m:\n\u001b[1;32m-> <a href='file:///c%3A/Users/akshi/Desktop/DDP/ensemblelf/lib/site-packages/sklearn/metrics/pairwise.py?line=1429'>1430</a>\u001b[0m     \u001b[39mreturn\u001b[39;00m func(X, Y, \u001b[39m*\u001b[39m\u001b[39m*\u001b[39mkwds)\n\u001b[0;32m   <a href='file:///c%3A/Users/akshi/Desktop/DDP/ensemblelf/lib/site-packages/sklearn/metrics/pairwise.py?line=1431'>1432</a>\u001b[0m \u001b[39m# enforce a threading backend to prevent data communication overhead\u001b[39;00m\n\u001b[0;32m   <a href='file:///c%3A/Users/akshi/Desktop/DDP/ensemblelf/lib/site-packages/sklearn/metrics/pairwise.py?line=1432'>1433</a>\u001b[0m fd \u001b[39m=\u001b[39m delayed(_dist_wrapper)\n",
      "File \u001b[1;32mc:\\Users\\akshi\\Desktop\\DDP\\ensemblelf\\lib\\site-packages\\sklearn\\metrics\\pairwise.py:302\u001b[0m, in \u001b[0;36meuclidean_distances\u001b[1;34m(X, Y, Y_norm_squared, squared, X_norm_squared)\u001b[0m\n\u001b[0;32m    <a href='file:///c%3A/Users/akshi/Desktop/DDP/ensemblelf/lib/site-packages/sklearn/metrics/pairwise.py?line=225'>226</a>\u001b[0m \u001b[39mdef\u001b[39;00m \u001b[39meuclidean_distances\u001b[39m(\n\u001b[0;32m    <a href='file:///c%3A/Users/akshi/Desktop/DDP/ensemblelf/lib/site-packages/sklearn/metrics/pairwise.py?line=226'>227</a>\u001b[0m     X, Y\u001b[39m=\u001b[39m\u001b[39mNone\u001b[39;00m, \u001b[39m*\u001b[39m, Y_norm_squared\u001b[39m=\u001b[39m\u001b[39mNone\u001b[39;00m, squared\u001b[39m=\u001b[39m\u001b[39mFalse\u001b[39;00m, X_norm_squared\u001b[39m=\u001b[39m\u001b[39mNone\u001b[39;00m\n\u001b[0;32m    <a href='file:///c%3A/Users/akshi/Desktop/DDP/ensemblelf/lib/site-packages/sklearn/metrics/pairwise.py?line=227'>228</a>\u001b[0m ):\n\u001b[0;32m    <a href='file:///c%3A/Users/akshi/Desktop/DDP/ensemblelf/lib/site-packages/sklearn/metrics/pairwise.py?line=228'>229</a>\u001b[0m \u001b[39m    \u001b[39m\u001b[39m\"\"\"\u001b[39;00m\n\u001b[0;32m    <a href='file:///c%3A/Users/akshi/Desktop/DDP/ensemblelf/lib/site-packages/sklearn/metrics/pairwise.py?line=229'>230</a>\u001b[0m \u001b[39m    Compute the distance matrix between each pair from a vector array X and Y.\u001b[39;00m\n\u001b[0;32m    <a href='file:///c%3A/Users/akshi/Desktop/DDP/ensemblelf/lib/site-packages/sklearn/metrics/pairwise.py?line=230'>231</a>\u001b[0m \n\u001b[1;32m   (...)\u001b[0m\n\u001b[0;32m    <a href='file:///c%3A/Users/akshi/Desktop/DDP/ensemblelf/lib/site-packages/sklearn/metrics/pairwise.py?line=299'>300</a>\u001b[0m \u001b[39m           [1.41421356]])\u001b[39;00m\n\u001b[0;32m    <a href='file:///c%3A/Users/akshi/Desktop/DDP/ensemblelf/lib/site-packages/sklearn/metrics/pairwise.py?line=300'>301</a>\u001b[0m \u001b[39m    \"\"\"\u001b[39;00m\n\u001b[1;32m--> <a href='file:///c%3A/Users/akshi/Desktop/DDP/ensemblelf/lib/site-packages/sklearn/metrics/pairwise.py?line=301'>302</a>\u001b[0m     X, Y \u001b[39m=\u001b[39m check_pairwise_arrays(X, Y)\n\u001b[0;32m    <a href='file:///c%3A/Users/akshi/Desktop/DDP/ensemblelf/lib/site-packages/sklearn/metrics/pairwise.py?line=303'>304</a>\u001b[0m     \u001b[39mif\u001b[39;00m X_norm_squared \u001b[39mis\u001b[39;00m \u001b[39mnot\u001b[39;00m \u001b[39mNone\u001b[39;00m:\n\u001b[0;32m    <a href='file:///c%3A/Users/akshi/Desktop/DDP/ensemblelf/lib/site-packages/sklearn/metrics/pairwise.py?line=304'>305</a>\u001b[0m         X_norm_squared \u001b[39m=\u001b[39m check_array(X_norm_squared, ensure_2d\u001b[39m=\u001b[39m\u001b[39mFalse\u001b[39;00m)\n",
      "File \u001b[1;32mc:\\Users\\akshi\\Desktop\\DDP\\ensemblelf\\lib\\site-packages\\sklearn\\metrics\\pairwise.py:164\u001b[0m, in \u001b[0;36mcheck_pairwise_arrays\u001b[1;34m(X, Y, precomputed, dtype, accept_sparse, force_all_finite, copy)\u001b[0m\n\u001b[0;32m    <a href='file:///c%3A/Users/akshi/Desktop/DDP/ensemblelf/lib/site-packages/sklearn/metrics/pairwise.py?line=154'>155</a>\u001b[0m \u001b[39melse\u001b[39;00m:\n\u001b[0;32m    <a href='file:///c%3A/Users/akshi/Desktop/DDP/ensemblelf/lib/site-packages/sklearn/metrics/pairwise.py?line=155'>156</a>\u001b[0m     X \u001b[39m=\u001b[39m check_array(\n\u001b[0;32m    <a href='file:///c%3A/Users/akshi/Desktop/DDP/ensemblelf/lib/site-packages/sklearn/metrics/pairwise.py?line=156'>157</a>\u001b[0m         X,\n\u001b[0;32m    <a href='file:///c%3A/Users/akshi/Desktop/DDP/ensemblelf/lib/site-packages/sklearn/metrics/pairwise.py?line=157'>158</a>\u001b[0m         accept_sparse\u001b[39m=\u001b[39maccept_sparse,\n\u001b[1;32m   (...)\u001b[0m\n\u001b[0;32m    <a href='file:///c%3A/Users/akshi/Desktop/DDP/ensemblelf/lib/site-packages/sklearn/metrics/pairwise.py?line=161'>162</a>\u001b[0m         estimator\u001b[39m=\u001b[39mestimator,\n\u001b[0;32m    <a href='file:///c%3A/Users/akshi/Desktop/DDP/ensemblelf/lib/site-packages/sklearn/metrics/pairwise.py?line=162'>163</a>\u001b[0m     )\n\u001b[1;32m--> <a href='file:///c%3A/Users/akshi/Desktop/DDP/ensemblelf/lib/site-packages/sklearn/metrics/pairwise.py?line=163'>164</a>\u001b[0m     Y \u001b[39m=\u001b[39m check_array(\n\u001b[0;32m    <a href='file:///c%3A/Users/akshi/Desktop/DDP/ensemblelf/lib/site-packages/sklearn/metrics/pairwise.py?line=164'>165</a>\u001b[0m         Y,\n\u001b[0;32m    <a href='file:///c%3A/Users/akshi/Desktop/DDP/ensemblelf/lib/site-packages/sklearn/metrics/pairwise.py?line=165'>166</a>\u001b[0m         accept_sparse\u001b[39m=\u001b[39;49maccept_sparse,\n\u001b[0;32m    <a href='file:///c%3A/Users/akshi/Desktop/DDP/ensemblelf/lib/site-packages/sklearn/metrics/pairwise.py?line=166'>167</a>\u001b[0m         dtype\u001b[39m=\u001b[39;49mdtype,\n\u001b[0;32m    <a href='file:///c%3A/Users/akshi/Desktop/DDP/ensemblelf/lib/site-packages/sklearn/metrics/pairwise.py?line=167'>168</a>\u001b[0m         copy\u001b[39m=\u001b[39;49mcopy,\n\u001b[0;32m    <a href='file:///c%3A/Users/akshi/Desktop/DDP/ensemblelf/lib/site-packages/sklearn/metrics/pairwise.py?line=168'>169</a>\u001b[0m         force_all_finite\u001b[39m=\u001b[39;49mforce_all_finite,\n\u001b[0;32m    <a href='file:///c%3A/Users/akshi/Desktop/DDP/ensemblelf/lib/site-packages/sklearn/metrics/pairwise.py?line=169'>170</a>\u001b[0m         estimator\u001b[39m=\u001b[39;49mestimator,\n\u001b[0;32m    <a href='file:///c%3A/Users/akshi/Desktop/DDP/ensemblelf/lib/site-packages/sklearn/metrics/pairwise.py?line=170'>171</a>\u001b[0m     )\n\u001b[0;32m    <a href='file:///c%3A/Users/akshi/Desktop/DDP/ensemblelf/lib/site-packages/sklearn/metrics/pairwise.py?line=172'>173</a>\u001b[0m \u001b[39mif\u001b[39;00m precomputed:\n\u001b[0;32m    <a href='file:///c%3A/Users/akshi/Desktop/DDP/ensemblelf/lib/site-packages/sklearn/metrics/pairwise.py?line=173'>174</a>\u001b[0m     \u001b[39mif\u001b[39;00m X\u001b[39m.\u001b[39mshape[\u001b[39m1\u001b[39m] \u001b[39m!=\u001b[39m Y\u001b[39m.\u001b[39mshape[\u001b[39m0\u001b[39m]:\n",
      "File \u001b[1;32mc:\\Users\\akshi\\Desktop\\DDP\\ensemblelf\\lib\\site-packages\\sklearn\\utils\\validation.py:746\u001b[0m, in \u001b[0;36mcheck_array\u001b[1;34m(array, accept_sparse, accept_large_sparse, dtype, order, copy, force_all_finite, ensure_2d, allow_nd, ensure_min_samples, ensure_min_features, estimator)\u001b[0m\n\u001b[0;32m    <a href='file:///c%3A/Users/akshi/Desktop/DDP/ensemblelf/lib/site-packages/sklearn/utils/validation.py?line=743'>744</a>\u001b[0m         array \u001b[39m=\u001b[39m array\u001b[39m.\u001b[39mastype(dtype, casting\u001b[39m=\u001b[39m\u001b[39m\"\u001b[39m\u001b[39munsafe\u001b[39m\u001b[39m\"\u001b[39m, copy\u001b[39m=\u001b[39m\u001b[39mFalse\u001b[39;00m)\n\u001b[0;32m    <a href='file:///c%3A/Users/akshi/Desktop/DDP/ensemblelf/lib/site-packages/sklearn/utils/validation.py?line=744'>745</a>\u001b[0m     \u001b[39melse\u001b[39;00m:\n\u001b[1;32m--> <a href='file:///c%3A/Users/akshi/Desktop/DDP/ensemblelf/lib/site-packages/sklearn/utils/validation.py?line=745'>746</a>\u001b[0m         array \u001b[39m=\u001b[39m np\u001b[39m.\u001b[39;49masarray(array, order\u001b[39m=\u001b[39;49morder, dtype\u001b[39m=\u001b[39;49mdtype)\n\u001b[0;32m    <a href='file:///c%3A/Users/akshi/Desktop/DDP/ensemblelf/lib/site-packages/sklearn/utils/validation.py?line=746'>747</a>\u001b[0m \u001b[39mexcept\u001b[39;00m ComplexWarning \u001b[39mas\u001b[39;00m complex_warning:\n\u001b[0;32m    <a href='file:///c%3A/Users/akshi/Desktop/DDP/ensemblelf/lib/site-packages/sklearn/utils/validation.py?line=747'>748</a>\u001b[0m     \u001b[39mraise\u001b[39;00m \u001b[39mValueError\u001b[39;00m(\n\u001b[0;32m    <a href='file:///c%3A/Users/akshi/Desktop/DDP/ensemblelf/lib/site-packages/sklearn/utils/validation.py?line=748'>749</a>\u001b[0m         \u001b[39m\"\u001b[39m\u001b[39mComplex data not supported\u001b[39m\u001b[39m\\n\u001b[39;00m\u001b[39m{}\u001b[39;00m\u001b[39m\\n\u001b[39;00m\u001b[39m\"\u001b[39m\u001b[39m.\u001b[39mformat(array)\n\u001b[0;32m    <a href='file:///c%3A/Users/akshi/Desktop/DDP/ensemblelf/lib/site-packages/sklearn/utils/validation.py?line=749'>750</a>\u001b[0m     ) \u001b[39mfrom\u001b[39;00m \u001b[39mcomplex_warning\u001b[39;00m\n",
      "\u001b[1;31mKeyboardInterrupt\u001b[0m: "
     ]
    }
   ],
   "source": [
    "# Unlabelled\n",
    "u_noisy_labels = PreLabels(name=\"bmnist_rem_ul\",\n",
    "                               data=xu,\n",
    "                               rules=rules,\n",
    "                               labels_enum=ClassLabels,\n",
    "                               num_classes=3)\n",
    "# Lu,Su = u_noisy_labels.get_labels()\n",
    "uOutput = u_noisy_labels.generate_pickle(U_path_pkl)"
   ]
  },
  {
   "cell_type": "code",
   "execution_count": 14,
   "metadata": {},
   "outputs": [
    {
     "name": "stderr",
     "output_type": "stream",
     "text": [
      "100%|██████████| 233/233 [00:54<00:00,  4.24it/s]\n"
     ]
    }
   ],
   "source": [
    "# Labelled\n",
    "l_noisy_labels = PreLabels(name=\"bmnist_l\",\n",
    "                               data=x,\n",
    "                               gold_labels=y,\n",
    "                               rules=rules,\n",
    "                               labels_enum=ClassLabels,\n",
    "                               num_classes=3)\n",
    "# Ll,Sl = l_noisy_labels.get_labels()\n",
    "l_noisy_labels.generate_pickle(L_path_pkl)\n",
    "l_noisy_labels.generate_json(path_json)"
   ]
  },
  {
   "cell_type": "code",
   "execution_count": null,
   "metadata": {},
   "outputs": [],
   "source": [
    "# # UnLabelled\n",
    "# unlabelled_noisy_labels = PreLabels(name=\"bmnist_ul\",\n",
    "#                                data=x,\n",
    "#                                rules=rules,\n",
    "#                                labels_enum=ClassLabels,\n",
    "#                                num_classes=3)\n",
    "# Lu,Su = unlabelled_noisy_labels.get_labels()\n",
    "# unlabelled_noisy_labels.generate_pickle(U_path_pkl)\n",
    "# unlabelled_noisy_labels.generate_json(path_json)"
   ]
  },
  {
   "cell_type": "code",
   "execution_count": 15,
   "metadata": {},
   "outputs": [
    {
     "name": "stdout",
     "output_type": "stream",
     "text": [
      "[None None None None None None None None None None None None None None\n",
      " None None None None]\n",
      "[0.003404740140441165 0.0 0.0 0.0 0.0 2.0421640028572594e-56\n",
      " 0.0006594492464319301 0.0 0.0 0.0 0.0 1.79967173347144e-25\n",
      " 0.0013406333900781592 0.0 0.0 0.0 0.0 2.4468043441713457e-19]\n"
     ]
    }
   ],
   "source": [
    "print(Ll[0][:])\n",
    "print(Sl[0][:])"
   ]
  },
  {
   "cell_type": "code",
   "execution_count": 29,
   "metadata": {},
   "outputs": [
    {
     "name": "stderr",
     "output_type": "stream",
     "text": [
      "100%|██████████| 100/100 [00:01<00:00, 56.91it/s]"
     ]
    },
    {
     "name": "stdout",
     "output_type": "stream",
     "text": [
      "final_test_accuracy_score: 0.4721030042918455\n",
      "test_average_metric: macro\tfinal_test_f1_score: 0.3829437599630408\n",
      "probs shape:  (4443, 3)\n",
      "labels shape:  (4443,)\n",
      "[2.22362617e-09 9.53455697e-08 4.39944124e-05 2.22362617e-09\n",
      " 2.22362617e-09 1.73351164e-05 2.22362617e-09 5.23847234e-07\n",
      " 2.22362617e-09 1.99178448e-05 2.22362617e-09 5.23847234e-07\n",
      " 3.42073093e-07 8.24416020e-08 7.19344507e-06 3.93196024e-05\n",
      " 7.19344507e-06 9.31614795e-06 4.55920457e-07 2.22362617e-09\n",
      " 3.37038000e-06 2.22362617e-09 2.22362617e-09 2.22362617e-09\n",
      " 4.61641690e-07 9.53455697e-08 2.22362617e-09 3.36458083e-06\n",
      " 2.22362617e-09 2.22362617e-09 8.68489005e-05 2.22362617e-09\n",
      " 2.22362617e-09 9.53455697e-08 2.22362617e-09 1.22170380e-08\n",
      " 9.31614795e-06 5.33899026e-07 8.29821971e-08 2.22362617e-09\n",
      " 3.37038000e-06 2.22362617e-09 5.23847234e-07 5.30420891e-07\n",
      " 2.22362617e-09 2.22362617e-09 3.82896978e-05 1.58976072e-05\n",
      " 9.53455697e-08 3.62525202e-06]\n"
     ]
    },
    {
     "name": "stderr",
     "output_type": "stream",
     "text": [
      "\n"
     ]
    }
   ],
   "source": [
    "cage = Cage(path_json = path_json, n_lfs = n_lfs)\n",
    "\n",
    "probs = cage.fit_and_predict_proba(path_pkl = U_path_pkl, path_test = L_path_pkl, path_log = log_path_cage, qt = 0.9, qc = 0.85, metric_avg = ['macro'], n_epochs = 100, lr = 0.01)\n",
    "\n",
    "labels = np.argmax(probs, 1)\n",
    "confidence = np.array([np.max(i) for i in probs])\n",
    "sorted = np.sort(confidence)\n",
    "\n",
    "print(\"probs shape: \", probs.shape)\n",
    "print(\"labels shape: \",labels.shape)\n",
    "\n",
    "print(confidence[:50])"
   ]
  },
  {
   "cell_type": "code",
   "execution_count": 23,
   "metadata": {},
   "outputs": [
    {
     "name": "stdout",
     "output_type": "stream",
     "text": [
      "Number of unlabelled images =  4443\n",
      "Accuracy on unlabelled images = 53.027233851001576\n",
      "1778\n"
     ]
    }
   ],
   "source": [
    "print(\"Number of unlabelled images = \",len(labels))\n",
    "print(\"Accuracy on unlabelled images =\",accuracy_score(labels,yu)*100)\n",
    "\n",
    "confident_labels = confidence[confidence>0.000001]\n",
    "print(len(confident_labels))"
   ]
  },
  {
   "cell_type": "code",
   "execution_count": 62,
   "metadata": {},
   "outputs": [
    {
     "name": "stdout",
     "output_type": "stream",
     "text": [
      "[1490  620  555  720 1041   17] [1e-09, 1e-08, 1e-07, 1e-06, 1e-05, 0.0001, 0.001]\n"
     ]
    },
    {
     "data": {
      "image/png": "[encoded data removed]",
      "text/plain": [
       "<Figure size 640x480 with 1 Axes>"
      ]
     },
     "metadata": {},
     "output_type": "display_data"
    }
   ],
   "source": [
    "import matplotlib.pyplot as plt\n",
    "import math\n",
    "\n",
    "\n",
    "intervals = [10**-9, 10**-8, 10**-7, 10**-6, 10**-5, 10**-4, 10**-3]\n",
    "counts, _ = np.histogram(confidence, bins=intervals)\n",
    "print(counts, intervals)\n",
    "plt.bar(intervals[:-1], counts, width=np.diff(intervals)/4, align='edge')\n",
    "\n",
    "# Add axis labels and a title\n",
    "plt.xlabel('Probability score')\n",
    "plt.ylabel('Count')\n",
    "plt.title('Histogram of Probability scores')\n",
    "plt.xscale(\"log\")\n",
    "# Display the plot\n",
    "plt.show()"
   ]
  },
  {
   "cell_type": "markdown",
   "metadata": {},
   "source": [
    "# LF Analysis"
   ]
  },
  {
   "cell_type": "code",
   "execution_count": null,
   "metadata": {},
   "outputs": [],
   "source": [
    "from spear.labeling import LFAnalysis\n",
    "\n",
    "analyse = l_noisy_labels.analyse_lfs(plot=True)\n",
    "\n",
    "result = analyse.head(16)\n",
    "display(result)"
   ]
  },
  {
   "cell_type": "code",
   "execution_count": null,
   "metadata": {},
   "outputs": [],
   "source": []
  }
 ],
 "metadata": {
  "kernelspec": {
   "display_name": "Python 3 (ipykernel)",
   "language": "python",
   "name": "python3"
  },
  "language_info": {
   "codemirror_mode": {
    "name": "ipython",
    "version": 3
   },
   "file_extension": ".py",
   "mimetype": "text/x-python",
   "name": "python",
   "nbconvert_exporter": "python",
   "pygments_lexer": "ipython3",
   "version": "3.9.5"
  },
  "vscode": {
   "interpreter": {
    "hash": "2792501f26b8b2f65173e7d2a8ef3bda79a184d4c020d0c9e34442112ca9f45e"
   }
  }
 },
 "nbformat": 4,
 "nbformat_minor": 2
}
