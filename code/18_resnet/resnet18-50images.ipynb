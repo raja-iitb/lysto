{
 "cells": [
  {
   "cell_type": "code",
   "execution_count": 2,
   "metadata": {},
   "outputs": [],
   "source": [
    "import os\n",
    "import shutil\n",
    "import re\n",
    "\n",
    "# Define the source folder path\n",
    "source_folder = '/home/raja/Desktop/segment-anything/test-data-output/test-output-v2'\n",
    "\n",
    "# Define the destination folders for training, validation, and test sets\n",
    "training_folder = '/home/raja/Desktop/MICCAI/training_folder'\n",
    "validation_folder = '/home/raja/Desktop/MICCAI/validation_folder'\n",
    "test_folder = '/home/raja/Desktop/MICCAI/test_folder'\n",
    "\n",
    "# Create destination folders if they don't exist\n",
    "os.makedirs(training_folder, exist_ok=True)\n",
    "os.makedirs(validation_folder, exist_ok=True)\n",
    "os.makedirs(test_folder, exist_ok=True)\n",
    "\n",
    "# Iterate over the images and move them to the appropriate folders\n",
    "for filename in os.listdir(source_folder):\n",
    "    # Extract the x number from the image name\n",
    "    match = re.match(r'img_(\\d+)_cropped_\\d+', filename)\n",
    "    if match:\n",
    "        image_x = int(match.group(1))\n",
    "        source_path = os.path.join(source_folder, filename)\n",
    "\n",
    "        if 0 <= image_x < 16000:\n",
    "            destination_path = os.path.join(training_folder, filename)\n",
    "        elif 16000 <= image_x < 18000:\n",
    "            destination_path = os.path.join(validation_folder, filename)\n",
    "        else:\n",
    "            destination_path = os.path.join(test_folder, filename)\n",
    "\n",
    "        shutil.move(source_path, destination_path)"
   ]
  }
 ],
 "metadata": {
  "kernelspec": {
   "display_name": "cage",
   "language": "python",
   "name": "python3"
  },
  "language_info": {
   "codemirror_mode": {
    "name": "ipython",
    "version": 3
   },
   "file_extension": ".py",
   "mimetype": "text/x-python",
   "name": "python",
   "nbconvert_exporter": "python",
   "pygments_lexer": "ipython3",
   "version": "3.10.6 (main, Mar 10 2023, 10:55:28) [GCC 11.3.0]"
  },
  "orig_nbformat": 4,
  "vscode": {
   "interpreter": {
    "hash": "f9f5b4396ae54b339dce7091723dfd2c38ad833227f8e97d2a6323021886247d"
   }
  }
 },
 "nbformat": 4,
 "nbformat_minor": 2
}
